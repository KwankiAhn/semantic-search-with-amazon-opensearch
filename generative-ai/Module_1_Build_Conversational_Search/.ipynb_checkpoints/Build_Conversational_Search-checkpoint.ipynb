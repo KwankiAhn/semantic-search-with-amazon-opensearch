{
 "cells": [
  {
   "cell_type": "markdown",
   "id": "aede8483",
   "metadata": {},
   "source": [
    "# Build the Conversational Search Building Blocks"
   ]
  },
  {
   "cell_type": "markdown",
   "id": "e93f41d1",
   "metadata": {},
   "source": [
    "<div>\n",
    "<img src=\"module1/all_components.png\", width=\"800\"/>\n",
    "</div>"
   ]
  },
  {
   "cell_type": "markdown",
   "id": "7c21bd0b",
   "metadata": {},
   "source": [
    "\n",
    "\n",
    "### In this lab, We will build the above components one by one to design an end to end conversational search application where you can simply upload a pdf and ask questions over the pdf content. The components include,\n",
    "\n",
    "* **OpenSearch** as the Vector Database\n",
    "* **Sagemaker endpoints** to host Embedding and the large language models\n",
    "* **DynamoDB** as the memory store\n",
    "* **Lambda functions** as the Document and Query Enoders\n",
    "* **Ec2 instance** to host the web application\n",
    "\n",
    "---\n",
    "\n",
    "The lab includes the following steps:\n",
    "\n",
    "1. [Get the Cloudformation outputs](#Get-the-Cloudformation-outputs)\n",
    "2. [Component 1 : OpenSearch Vector DB](#Component-1-:-OpenSearch-Vector-DB)\n",
    "3. [Component 2 : Embedding and LLM Endpoints](#Component-2-:--Embedding-and-LLM-Endpoints)\n",
    "4. [Component 3 : Memory Store](#Component-3-:--Memory-Store)\n",
    "5. [Component 4 : Document and Query Encoder](#Component-4-:--Document-and-Query-Encoder)\n",
    "    - [4.1 Package the dependant libraries and handler files for lambda functions](#4.1-Package-the-dependant-libraries-and-handler-files-for-lambda-functions)\n",
    "    - [4.2 Create the IAM role for Lambda](#4.2-Create-the-IAM-role-for-Lambda)\n",
    "    - [4.3 Deploy lambda functions](#4.3-Deploy-lambda-functions)\n",
    "    - [4.4 Create external URL for queryEncoder Lambda](#4.4-Create-external-URL-for-queryEncoder-Lambda)\n",
    "6. [Component 5 : Client WebServer](#Component-5-:-Client-WebServer)\n"
   ]
  },
  {
   "cell_type": "markdown",
   "id": "c01dbffe",
   "metadata": {},
   "source": [
    "## Get the Cloudformation outputs"
   ]
  },
  {
   "cell_type": "code",
   "execution_count": 14,
   "id": "8e34e89e",
   "metadata": {},
   "outputs": [
    {
     "name": "stdout",
     "output_type": "stream",
     "text": [
      "sagemaker.config INFO - Not applying SDK defaults from location: /etc/xdg/sagemaker/config.yaml\n",
      "sagemaker.config INFO - Not applying SDK defaults from location: /home/ec2-user/.config/sagemaker/config.yaml\n"
     ]
    },
    {
     "data": {
      "text/plain": [
       "[{'OutputKey': 'EmbeddingEndpointName',\n",
       "  'OutputValue': 'opensearch-gen-ai-embedding-gpt-j-6b-90898a20',\n",
       "  'Description': 'Name of the LLM endpoint'},\n",
       " {'OutputKey': 'OpenSourceDomainArn',\n",
       "  'OutputValue': 'arn:aws:es:us-west-2:765135952598:domain/opensearchservi-f58xagjvqaov',\n",
       "  'Description': 'OpenSearch domain ARN'},\n",
       " {'OutputKey': 'OpenSearchDomainEndpoint',\n",
       "  'OutputValue': 'search-opensearchservi-f58xagjvqaov-fhbtsdd6ubrl3upxt73hrsjk3i.us-west-2.es.amazonaws.com',\n",
       "  'Description': 'OpenSearch domain endpoint'},\n",
       " {'OutputKey': 'S3BucketSecureURL',\n",
       "  'OutputValue': 'https://semantic-search-s3buckethosting-1ll7rr05d03dv.s3.amazonaws.com',\n",
       "  'Description': 'Name of S3 bucket to hold website content'},\n",
       " {'OutputKey': 'LLMEndpointName',\n",
       "  'OutputValue': 'opensearch-gen-ai-llm-falcon-7b-bf16-90898a20',\n",
       "  'Description': 'Name of the LLM endpoint'},\n",
       " {'OutputKey': 'SageMakerNotebookURL',\n",
       "  'OutputValue': 'https://console.aws.amazon.com/sagemaker/home?region=us-west-2#/notebook-instances/openNotebook/semantic-search-nb?view=classic',\n",
       "  'Description': 'SageMaker Notebook Instance'},\n",
       " {'OutputKey': 's3BucketTraining',\n",
       "  'OutputValue': 'semantic-search-s3buckettraining-wxzusb9nt1ft',\n",
       "  'Description': 'S3 bucket name for training'},\n",
       " {'OutputKey': 'Region',\n",
       "  'OutputValue': 'us-west-2',\n",
       "  'Description': 'Deployed Region'},\n",
       " {'OutputKey': 'OpenSearchDomainName',\n",
       "  'OutputValue': 'opensearchservi-f58xagjvqaov',\n",
       "  'Description': 'OpenSearch domain name'},\n",
       " {'OutputKey': 'OpenSearchSecret',\n",
       "  'OutputValue': 'arn:aws:secretsmanager:us-west-2:765135952598:secret:OpenSearchSecret-semantic-search-qqjHTF',\n",
       "  'Description': 'Name of the OpenSearch secret in Secrets Manager'},\n",
       " {'OutputKey': 's3BucketHostingBucketName',\n",
       "  'OutputValue': 'semantic-search-s3buckethosting-1ll7rr05d03dv',\n",
       "  'Description': 'S3 bucket name for frontend hosting'}]"
      ]
     },
     "execution_count": 14,
     "metadata": {},
     "output_type": "execute_result"
    }
   ],
   "source": [
    "import sagemaker, boto3, json, time\n",
    "from sagemaker.session import Session\n",
    "\n",
    "sagemaker_session = Session()\n",
    "aws_role = sagemaker_session.get_caller_identity_arn()\n",
    "aws_region = boto3.Session().region_name\n",
    "\n",
    "cfn = boto3.client('cloudformation')\n",
    "response = cfn.list_stacks(\n",
    "   StackStatusFilter=['CREATE_COMPLETE']\n",
    ")\n",
    "for cfns in response['StackSummaries']:\n",
    "    if('semantic-search' in cfns['StackName']):\n",
    "        stackname = cfns['StackName']\n",
    "stackname\n",
    "\n",
    "cfn_outputs = cfn.describe_stacks(StackName=stackname)['Stacks'][0]['Outputs']\n",
    "env_variables = {\"aws_region\":aws_region}\n",
    "cfn_outputs"
   ]
  },
  {
   "cell_type": "markdown",
   "id": "b5e2081a",
   "metadata": {},
   "source": [
    "## Component 1 : OpenSearch Vector DB"
   ]
  },
  {
   "cell_type": "markdown",
   "id": "e9c3a13e",
   "metadata": {},
   "source": [
    "<div>\n",
    "<img src=\"module1/vectordb.png\" width=\"600\"/>\n",
    "</div>"
   ]
  },
  {
   "cell_type": "code",
   "execution_count": 15,
   "id": "59187261",
   "metadata": {},
   "outputs": [
    {
     "name": "stdout",
     "output_type": "stream",
     "text": [
      "OpenSearch Version: OpenSearch_2.9\n",
      "\n",
      "OpenSearch Configuration\n",
      "------------------------\n",
      "\n",
      "{\n",
      "    \"InstanceType\": \"r6g.2xlarge.search\",\n",
      "    \"InstanceCount\": 1,\n",
      "    \"DedicatedMasterEnabled\": false,\n",
      "    \"ZoneAwarenessEnabled\": false,\n",
      "    \"WarmEnabled\": false,\n",
      "    \"ColdStorageOptions\": {\n",
      "        \"Enabled\": false\n",
      "    },\n",
      "    \"MultiAZWithStandbyEnabled\": false\n",
      "}\n"
     ]
    }
   ],
   "source": [
    "for output in cfn_outputs:\n",
    "    if('opensearch' in output['OutputKey'].lower()):\n",
    "        env_variables[output['OutputKey']] = output['OutputValue']\n",
    "        \n",
    "opensearch_ = boto3.client('opensearch')\n",
    "\n",
    "response = opensearch_.describe_domain(\n",
    "    DomainName=env_variables['OpenSearchDomainName']\n",
    ")\n",
    "\n",
    "print(\"OpenSearch Version: \"+response['DomainStatus']['EngineVersion']+\"\\n\")\n",
    "print(\"OpenSearch Configuration\\n------------------------\\n\")\n",
    "print(json.dumps(response['DomainStatus']['ClusterConfig'], indent=4))        "
   ]
  },
  {
   "cell_type": "markdown",
   "id": "b5358cdb",
   "metadata": {},
   "source": [
    "## Component 2 : Embedding and LLM Endpoints"
   ]
  },
  {
   "cell_type": "markdown",
   "id": "24f2cf0f",
   "metadata": {},
   "source": [
    "\n",
    "<div>\n",
    "<img src=\"module1/ml_models.png\" width=\"600\"/>\n",
    "</div>"
   ]
  },
  {
   "cell_type": "code",
   "execution_count": 16,
   "id": "d0c828c7",
   "metadata": {},
   "outputs": [
    {
     "name": "stdout",
     "output_type": "stream",
     "text": [
      "EmbeddingEndpointName : opensearch-gen-ai-embedding-gpt-j-6b-90898a20\n",
      "------------------------------------------------\n",
      "{\n",
      "    \"VariantName\": \"opensearch-gen-ai-embedding-gpt-j-6b-model-90898a20\",\n",
      "    \"ModelName\": \"opensearch-gen-ai-embedding-gpt-j-6b-model-90898a20\",\n",
      "    \"InitialInstanceCount\": 1,\n",
      "    \"InstanceType\": \"ml.g5.2xlarge\",\n",
      "    \"InitialVariantWeight\": 1.0\n",
      "}\n",
      "LLMEndpointName : opensearch-gen-ai-llm-falcon-7b-bf16-90898a20\n",
      "------------------------------------------------\n",
      "{\n",
      "    \"VariantName\": \"opensearch-gen-ai-llm-falcon-7b-bf16-90898a20\",\n",
      "    \"ModelName\": \"opensearch-gen-ai-llm-falcon-7b-bf16-90898a20\",\n",
      "    \"InitialInstanceCount\": 1,\n",
      "    \"InstanceType\": \"ml.g5.4xlarge\",\n",
      "    \"InitialVariantWeight\": 1.0\n",
      "}\n"
     ]
    }
   ],
   "source": [
    "sagemaker_ = boto3.client('sagemaker')\n",
    "\n",
    "for output in cfn_outputs:\n",
    "    if('endpointname' in output['OutputKey'].lower()):\n",
    "        env_variables[output['OutputKey']] = output['OutputValue']\n",
    "        print(output['OutputKey'] + \" : \"+output['OutputValue']+\"\\n\"+\"------------------------------------------------\")\n",
    "        print(json.dumps(sagemaker_.describe_endpoint_config(EndpointConfigName = sagemaker_.describe_endpoint(\n",
    "    EndpointName=output['OutputValue']\n",
    "                            )['EndpointConfigName'])['ProductionVariants'][0],indent = 4))\n",
    "                        "
   ]
  },
  {
   "cell_type": "markdown",
   "id": "b69420c4",
   "metadata": {},
   "source": [
    "## Component 3 : Memory Store"
   ]
  },
  {
   "cell_type": "markdown",
   "id": "6a789f24",
   "metadata": {},
   "source": [
    "<div>\n",
    "<img src=\"module1/memory.png\" width=\"600\"/>\n",
    "</div>"
   ]
  },
  {
   "cell_type": "code",
   "execution_count": 17,
   "id": "616b4a1d",
   "metadata": {},
   "outputs": [
    {
     "name": "stdout",
     "output_type": "stream",
     "text": [
      "dynamo DB Table, 'conversation-history-memory' is created\n"
     ]
    }
   ],
   "source": [
    "dynamo = boto3.client('dynamodb')\n",
    "\n",
    "response = dynamo.create_table(\n",
    "    TableName='conversation-history-memory',\n",
    "    AttributeDefinitions=[\n",
    "        {\n",
    "            'AttributeName': 'SessionId',\n",
    "            'AttributeType': 'S',\n",
    "        }\n",
    "    ],\n",
    "    KeySchema=[\n",
    "        {\n",
    "            'AttributeName': 'SessionId',\n",
    "            'KeyType': 'HASH',\n",
    "        }\n",
    "    ],\n",
    "    ProvisionedThroughput={\n",
    "        'ReadCapacityUnits': 5,\n",
    "        'WriteCapacityUnits': 5,\n",
    "    }\n",
    ")\n",
    "env_variables['DynamoDBTableName'] = response['TableDescription']['TableName']\n",
    "\n",
    "print(\"dynamo DB Table, '\"+response['TableDescription']['TableName']+\"' is created\")\n"
   ]
  },
  {
   "cell_type": "markdown",
   "id": "780d8486",
   "metadata": {},
   "source": [
    "## Component 4 : Document and Query Encoder"
   ]
  },
  {
   "cell_type": "markdown",
   "id": "3163438a",
   "metadata": {},
   "source": [
    "<div>\n",
    "<img src=\"module1/encoders.png\" width=\"600\"/>\n",
    "</div>"
   ]
  },
  {
   "cell_type": "markdown",
   "id": "12c52a66",
   "metadata": {},
   "source": [
    "### 4.1 Package the dependant libraries and handler files for lambda functions"
   ]
  },
  {
   "cell_type": "code",
   "execution_count": 18,
   "id": "949dfd99",
   "metadata": {},
   "outputs": [
    {
     "name": "stdout",
     "output_type": "stream",
     "text": [
      "upload: documentEncoder/documentEncoder.zip to s3://semantic-search-s3buckethosting-1ll7rr05d03dv/documentEncoder.zip\n",
      "upload: queryEncoder/queryEncoder.zip to s3://semantic-search-s3buckethosting-1ll7rr05d03dv/queryEncoder.zip\n",
      "\n",
      "documentEncoder.zip and queryEncoder.zip pushed to semantic-search-s3buckethosting-1ll7rr05d03dv\n"
     ]
    }
   ],
   "source": [
    "from IPython.utils import io\n",
    "\n",
    "with io.capture_output() as captured:\n",
    "\n",
    "    # Download the Langchain module\n",
    "    !aws s3 cp s3://ws-assets-prod-iad-r-gru-527b8c19222c1182/2108cfcf-6cd6-4613-83c0-db4e55998757/Langchain.zip .\n",
    "\n",
    "    # Create a folder for DocumentEncoder Lambda and unzip the Langchain.zip contents\n",
    "    !mkdir -p documentEncoder\n",
    "    !unzip -o Langchain.zip -d documentEncoder/\n",
    "    !cp -f chain_documentEncoder.py main_documentEncoder.py documentEncoder/\n",
    "    !cd documentEncoder && zip -r documentEncoder.zip *\n",
    "\n",
    "    # Create a folder for QueryEncoder Lambda and unzip the Langchain.zip contents\n",
    "    !mkdir -p queryEncoder\n",
    "    !unzip -o Langchain.zip -d queryEncoder/\n",
    "    !cp -f chain_queryEncoder.py main_queryEncoder.py queryEncoder/\n",
    "    !cd queryEncoder && zip -r queryEncoder.zip *\n",
    "\n",
    "#Push Lambda artefacts to s3 bucket\n",
    "for output in cfn_outputs:\n",
    "    if('s3' in output['OutputKey'].lower()):\n",
    "        s3_bucket = output['OutputValue']\n",
    "\n",
    "\n",
    "!aws s3 cp documentEncoder/documentEncoder.zip s3://$s3_bucket\n",
    "!aws s3 cp queryEncoder/queryEncoder.zip s3://$s3_bucket\n",
    "    \n",
    "print(\"\\ndocumentEncoder.zip and queryEncoder.zip pushed to \"+s3_bucket)"
   ]
  },
  {
   "cell_type": "markdown",
   "id": "d35cf91b",
   "metadata": {},
   "source": [
    "### 4.2 Create the IAM role for Lambda"
   ]
  },
  {
   "cell_type": "code",
   "execution_count": 19,
   "id": "8b0bdc2e",
   "metadata": {},
   "outputs": [
    {
     "data": {
      "text/plain": [
       "'arn:aws:iam::765135952598:role/LambdaRoleforSearch'"
      ]
     },
     "execution_count": 19,
     "metadata": {},
     "output_type": "execute_result"
    }
   ],
   "source": [
    "iam_ = boto3.client('iam')\n",
    "\n",
    "lambda_iam_role = iam_.create_role(\n",
    "    RoleName='LambdaRoleforSearch',\n",
    "    AssumeRolePolicyDocument='{\"Version\": \"2012-10-17\", \"Statement\": [{\"Effect\": \"Allow\", \"Principal\": {\"Service\": \"lambda.amazonaws.com\"}, \"Action\": \"sts:AssumeRole\"}]}',\n",
    "    Description='LLMApp Lambda Permissions',\n",
    "    \n",
    ")\n",
    "\n",
    "policies = [\n",
    "    'AmazonDynamoDBFullAccess',\n",
    "    'AmazonSagemakerFullAccess',\n",
    "    'AmazonS3FullAccess',\n",
    "    'AmazonOpenSearchServiceFullAccess',\n",
    "    'CloudWatchLogsFullAccess',\n",
    "    'SecretsManagerReadWrite']\n",
    "\n",
    "for policy in policies:\n",
    "    iam_.attach_role_policy(\n",
    "        RoleName='LambdaRoleforSearch',\n",
    "        PolicyArn='arn:aws:iam::aws:policy/'+policy\n",
    "    )\n",
    "time.sleep(5)    \n",
    "lambda_iam_role_arn = lambda_iam_role['Role']['Arn']\n",
    "lambda_iam_role_arn"
   ]
  },
  {
   "cell_type": "markdown",
   "id": "3276ad68",
   "metadata": {},
   "source": [
    "### 4.3 Deploy lambda functions"
   ]
  },
  {
   "cell_type": "code",
   "execution_count": 20,
   "id": "f7d6bfa0",
   "metadata": {},
   "outputs": [
    {
     "name": "stdout",
     "output_type": "stream",
     "text": [
      "arn:aws:lambda:us-west-2:765135952598:function:queryEncoder\n",
      "arn:aws:lambda:us-west-2:765135952598:function:documentEncoder\n"
     ]
    }
   ],
   "source": [
    "lambda_ = boto3.client('lambda')\n",
    "\n",
    "encoders = ['queryEncoder','documentEncoder']\n",
    "\n",
    "for encoder in encoders:\n",
    "    response = lambda_.create_function(\n",
    "    FunctionName=encoder,\n",
    "    Runtime='python3.9',\n",
    "    Role=lambda_iam_role_arn,\n",
    "    Handler='main_'+encoder+'.handler',\n",
    "    Code={\n",
    "        \n",
    "        'S3Bucket': s3_bucket,\n",
    "        'S3Key': encoder+'.zip',\n",
    "        \n",
    "    },\n",
    "    Timeout=900,\n",
    "    MemorySize=512,\n",
    "    Environment={\n",
    "        'Variables': env_variables\n",
    "    }\n",
    "    )\n",
    "    print(response['FunctionArn'])\n",
    "    documentEncoder = response['FunctionArn']"
   ]
  },
  {
   "cell_type": "markdown",
   "id": "f2bc453b",
   "metadata": {},
   "source": [
    "### 4.4 Create external URL for queryEncoder Lambda"
   ]
  },
  {
   "cell_type": "code",
   "execution_count": 21,
   "id": "851f58e2",
   "metadata": {},
   "outputs": [
    {
     "data": {
      "text/plain": [
       "'https://irwd3ajn4e4nydsz6itrjq2whe0ibler.lambda-url.us-west-2.on.aws/'"
      ]
     },
     "execution_count": 21,
     "metadata": {},
     "output_type": "execute_result"
    }
   ],
   "source": [
    "response = lambda_.add_permission(\n",
    "    FunctionName='queryEncoder',\n",
    "    StatementId='queryEncoder_permissions',\n",
    "    Action=\"lambda:InvokeFunctionUrl\",\n",
    "    Principal=documentEncoder.split(':')[4],\n",
    "    FunctionUrlAuthType='AWS_IAM'\n",
    ")\n",
    "\n",
    "response = lambda_.create_function_url_config(\n",
    "    FunctionName='queryEncoder',\n",
    "    AuthType='AWS_IAM',\n",
    "    Cors={\n",
    "        'AllowCredentials': True,\n",
    "\n",
    "        'AllowMethods':[\"*\"],\n",
    "        'AllowOrigins': [\"*\"]\n",
    "\n",
    "    },\n",
    "    InvokeMode='RESPONSE_STREAM'\n",
    ")\n",
    "\n",
    "query_invoke_URL = response['FunctionUrl']\n",
    "query_invoke_URL"
   ]
  },
  {
   "cell_type": "markdown",
   "id": "8fc4b86f",
   "metadata": {},
   "source": [
    "## Component 5 : Client WebServer"
   ]
  },
  {
   "cell_type": "markdown",
   "id": "e9170aa9",
   "metadata": {},
   "source": [
    "<div>\n",
    "<img src=\"module1/webserver.png\" width=\"600\"/>\n",
    "</div>"
   ]
  },
  {
   "cell_type": "markdown",
   "id": "8d938cfd",
   "metadata": {},
   "source": [
    "### 5.1 Update the webapp code artefacts "
   ]
  },
  {
   "cell_type": "code",
   "execution_count": 22,
   "id": "39258aaa",
   "metadata": {},
   "outputs": [
    {
     "name": "stdout",
     "output_type": "stream",
     "text": [
      "  adding: api.py (deflated 55%)\n",
      "  adding: app.py (deflated 66%)\n",
      "  adding: images/ (stored 0%)\n",
      "  adding: images/opensearch-twitter-card.png (deflated 5%)\n",
      "  adding: images/ai-icon.png (stored 0%)\n",
      "  adding: images/user-icon.png (stored 0%)\n",
      "  adding: pdfs/ (stored 0%)\n",
      "  adding: pdfs/OpenSearchFAQ.pdf (deflated 50%)\n",
      "  adding: pdfs/sample.pdf (deflated 50%)\n",
      "  adding: pdfs/OpenSearch_best_practices.pdf (deflated 64%)\n",
      "upload: ./webapp.zip to s3://semantic-search-s3buckethosting-1ll7rr05d03dv/webapp.zip\n",
      "\n",
      "ec2_instance_id: i-00eae361889f6e4d1\n"
     ]
    }
   ],
   "source": [
    "#modify the code files with lambda url and s3 bucket names\n",
    "query_invoke_URL_cmd = query_invoke_URL.replace(\"/\",\"\\/\")\n",
    "!sed -i 's/API_URL_TO_BE_REPLACED/{query_invoke_URL_cmd}/g' webapp/api.py\n",
    "!sed -i 's/pdf-repo-uploads/{s3_bucket}/g' webapp/app.py\n",
    "\n",
    "#push the webapp code archive to s3\n",
    "!cd webapp && zip -r ../webapp.zip *\n",
    "!aws s3 cp webapp.zip s3://$s3_bucket\n",
    "    \n",
    "response = cfn.describe_stack_resources(\n",
    "    StackName=stackname\n",
    ")\n",
    "for resource in response['StackResources']:\n",
    "    if(resource['ResourceType'] == 'AWS::EC2::Instance'):\n",
    "        ec2_instance_id = resource['PhysicalResourceId']\n",
    "\n",
    "\n",
    "print(\"\\nec2_instance_id: \"+ec2_instance_id)"
   ]
  },
  {
   "cell_type": "markdown",
   "id": "1f4c7a3d",
   "metadata": {},
   "source": [
    "### 5.2 Execute ssh comands in ec2 terminal to start the app"
   ]
  },
  {
   "cell_type": "code",
   "execution_count": 23,
   "id": "d9345918",
   "metadata": {
    "scrolled": true
   },
   "outputs": [
    {
     "name": "stdout",
     "output_type": "stream",
     "text": [
      "InProgress\n",
      "---------\n",
      " The webserver is up and running\n"
     ]
    }
   ],
   "source": [
    "# function to execute commands in ec2 terminal\n",
    "def execute_commands_on_linux_instances(client, commands):\n",
    "    resp = client.send_command(\n",
    "        DocumentName=\"AWS-RunShellScript\", # One of AWS' preconfigured documents\n",
    "        Parameters={'commands': commands},\n",
    "        InstanceIds=[ec2_instance_id],\n",
    "    )\n",
    "    return resp['Command']['CommandId']\n",
    "\n",
    "\n",
    "ssm_client = boto3.client('ssm') \n",
    "\n",
    "\n",
    "commands = [\n",
    "            'aws s3 cp s3://'+s3_bucket+'/webapp.zip /home/ec2-user/',\n",
    "            'unzip -o /home/ec2-user/webapp.zip -d /home/ec2-user/'  ,      \n",
    "            'sudo chmod -R 0777 /home/ec2-user/',\n",
    "            'aws s3 cp /home/ec2-user/pdfs s3://'+s3_bucket+'/sample_pdfs/ --recursive',\n",
    "            'python3 -m venv /home/ec2-user/.myenv',\n",
    "            'source /home/ec2-user/.myenv/bin/activate',\n",
    "            'pip install streamlit',\n",
    "            'pip install boto3',\n",
    "    \n",
    "            #start the web applicaiton\n",
    "            'streamlit run /home/ec2-user/app.py',\n",
    "            \n",
    "            ]\n",
    "\n",
    "command_id = execute_commands_on_linux_instances(ssm_client, commands)\n",
    "\n",
    "time.sleep(3)\n",
    "\n",
    "response = ssm_client.get_command_invocation(\n",
    "    CommandId=command_id,\n",
    "    InstanceId=ec2_instance_id\n",
    ")\n",
    "print(response['Status'])\n",
    "print('---------')\n",
    "print(response['StandardOutputContent']+\" The webserver is up and running\")\n"
   ]
  },
  {
   "cell_type": "markdown",
   "id": "f929abec",
   "metadata": {},
   "source": [
    "### 5.3 check the ec2 ports which runs the app"
   ]
  },
  {
   "cell_type": "code",
   "execution_count": 24,
   "id": "915f0972",
   "metadata": {},
   "outputs": [
    {
     "name": "stdout",
     "output_type": "stream",
     "text": [
      "Success\n",
      "---------\n",
      "streamlit 2327            root    9u  IPv4  18962      0t0  TCP *:8501 (LISTEN)\n",
      "streamlit 2327            root   10u  IPv6  18963      0t0  TCP *:8501 (LISTEN)\n",
      "\n",
      "\n"
     ]
    }
   ],
   "source": [
    "#check the status of the applicaiton\n",
    "commands = [\n",
    "            \"sudo lsof -i -P -n | grep streamlit\"\n",
    "             ]\n",
    "\n",
    "command_id = execute_commands_on_linux_instances(ssm_client, commands)\n",
    "\n",
    "time.sleep(5)\n",
    "\n",
    "response = ssm_client.get_command_invocation(\n",
    "    CommandId=command_id,\n",
    "    InstanceId=ec2_instance_id\n",
    ")\n",
    "print(response['Status'])\n",
    "print('---------')\n",
    "print(response['StandardOutputContent'])\n",
    "print(response['StandardErrorContent'])\n"
   ]
  },
  {
   "cell_type": "markdown",
   "id": "a90879af",
   "metadata": {},
   "source": [
    "### 5.4 Open the app using ec2 public DNS"
   ]
  },
  {
   "cell_type": "code",
   "execution_count": 26,
   "id": "49e51ae9",
   "metadata": {},
   "outputs": [
    {
     "ename": "KeyError",
     "evalue": "'StandardOutputContent'",
     "output_type": "error",
     "traceback": [
      "\u001b[0;31m---------------------------------------------------------------------------\u001b[0m",
      "\u001b[0;31mKeyError\u001b[0m                                  Traceback (most recent call last)",
      "Cell \u001b[0;32mIn[26], line 1\u001b[0m\n\u001b[0;32m----> 1\u001b[0m port_num \u001b[38;5;241m=\u001b[39m \u001b[43mresponse\u001b[49m\u001b[43m[\u001b[49m\u001b[38;5;124;43m'\u001b[39;49m\u001b[38;5;124;43mStandardOutputContent\u001b[39;49m\u001b[38;5;124;43m'\u001b[39;49m\u001b[43m]\u001b[49m\u001b[38;5;241m.\u001b[39mreplace(\u001b[38;5;124m\"\u001b[39m\u001b[38;5;124m \u001b[39m\u001b[38;5;124m\"\u001b[39m,\u001b[38;5;124m\"\u001b[39m\u001b[38;5;124m\"\u001b[39m)\u001b[38;5;241m.\u001b[39msplit(\u001b[38;5;124m\"\u001b[39m\u001b[38;5;124m(LISTEN)\u001b[39m\u001b[38;5;124m\"\u001b[39m)[\u001b[38;5;241m0\u001b[39m]\u001b[38;5;241m.\u001b[39msplit(\u001b[38;5;124m\"\u001b[39m\u001b[38;5;124m:\u001b[39m\u001b[38;5;124m\"\u001b[39m)[\u001b[38;5;241m1\u001b[39m]\n\u001b[1;32m      2\u001b[0m ec2_ \u001b[38;5;241m=\u001b[39m boto3\u001b[38;5;241m.\u001b[39mclient(\u001b[38;5;124m'\u001b[39m\u001b[38;5;124mec2\u001b[39m\u001b[38;5;124m'\u001b[39m)\n\u001b[1;32m      3\u001b[0m response \u001b[38;5;241m=\u001b[39m ec2_\u001b[38;5;241m.\u001b[39mdescribe_instances(\n\u001b[1;32m      4\u001b[0m     InstanceIds\u001b[38;5;241m=\u001b[39m[ec2_instance_id]\n\u001b[1;32m      5\u001b[0m )\n",
      "\u001b[0;31mKeyError\u001b[0m: 'StandardOutputContent'"
     ]
    }
   ],
   "source": [
    "port_num = response['StandardOutputContent'].replace(\" \",\"\").split(\"(LISTEN)\")[0].split(\":\")[1]\n",
    "ec2_ = boto3.client('ec2')\n",
    "response = ec2_.describe_instances(\n",
    "    InstanceIds=[ec2_instance_id]\n",
    ")\n",
    "public_ip = response['Reservations'][0]['Instances'][0]['PublicIpAddress']\n",
    "print(\"Click the URL to open the application\")\n",
    "print('http://'+public_ip+\":\"+port_num)"
   ]
  },
  {
   "cell_type": "code",
   "execution_count": null,
   "id": "19812e06",
   "metadata": {},
   "outputs": [],
   "source": []
  }
 ],
 "metadata": {
  "kernelspec": {
   "display_name": "conda_pytorch_p310",
   "language": "python",
   "name": "conda_pytorch_p310"
  },
  "language_info": {
   "codemirror_mode": {
    "name": "ipython",
    "version": 3
   },
   "file_extension": ".py",
   "mimetype": "text/x-python",
   "name": "python",
   "nbconvert_exporter": "python",
   "pygments_lexer": "ipython3",
   "version": "3.10.12"
  }
 },
 "nbformat": 4,
 "nbformat_minor": 5
}
